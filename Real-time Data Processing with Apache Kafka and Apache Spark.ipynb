{
 "cells": [
  {
   "cell_type": "markdown",
   "id": "eda62eaa",
   "metadata": {},
   "source": [
    "# PROJECT3: Real-time Data Processing with Apache Kafka and Apache Spark"
   ]
  },
  {
   "cell_type": "code",
   "execution_count": 2,
   "id": "69668ad6",
   "metadata": {},
   "outputs": [
    {
     "name": "stdout",
     "output_type": "stream",
     "text": [
      "Sent: {'id': 991, 'value': 0.060667907759991646, 'timestamp': '2024-09-12 15:03:41'}\n",
      "Sent: {'id': 740, 'value': 0.6376311429327169, 'timestamp': '2024-09-12 15:03:42'}\n",
      "Sent: {'id': 676, 'value': 0.35422791859322966, 'timestamp': '2024-09-12 15:03:43'}\n",
      "Sent: {'id': 487, 'value': 0.56798580657199, 'timestamp': '2024-09-12 15:03:44'}\n",
      "Sent: {'id': 849, 'value': 0.020644126963452858, 'timestamp': '2024-09-12 15:03:45'}\n",
      "Sent: {'id': 911, 'value': 0.5609330186101318, 'timestamp': '2024-09-12 15:03:46'}\n",
      "Sent: {'id': 38, 'value': 0.46306779738948556, 'timestamp': '2024-09-12 15:03:47'}\n",
      "Sent: {'id': 309, 'value': 0.25698962899080535, 'timestamp': '2024-09-12 15:03:48'}\n",
      "Sent: {'id': 338, 'value': 0.5812261668101862, 'timestamp': '2024-09-12 15:03:49'}\n",
      "Sent: {'id': 169, 'value': 0.8953313777018579, 'timestamp': '2024-09-12 15:03:50'}\n",
      "Sent: {'id': 631, 'value': 0.646747065060195, 'timestamp': '2024-09-12 15:03:51'}\n",
      "Sent: {'id': 752, 'value': 0.18798690925322903, 'timestamp': '2024-09-12 15:03:52'}\n",
      "Sent: {'id': 52, 'value': 0.4449477577879184, 'timestamp': '2024-09-12 15:03:53'}\n",
      "Sent: {'id': 533, 'value': 0.7678089422521935, 'timestamp': '2024-09-12 15:03:54'}\n",
      "Sent: {'id': 896, 'value': 0.33484671827122525, 'timestamp': '2024-09-12 15:03:55'}\n",
      "Sent: {'id': 320, 'value': 0.1304317251256748, 'timestamp': '2024-09-12 15:03:56'}\n",
      "Sent: {'id': 425, 'value': 0.42934791038854647, 'timestamp': '2024-09-12 15:03:57'}\n",
      "Sent: {'id': 736, 'value': 0.5700585883374382, 'timestamp': '2024-09-12 15:03:58'}\n",
      "Sent: {'id': 676, 'value': 0.44417688494873264, 'timestamp': '2024-09-12 15:03:59'}\n",
      "Sent: {'id': 271, 'value': 0.5071074244450333, 'timestamp': '2024-09-12 15:04:00'}\n",
      "Sent: {'id': 647, 'value': 0.03119713024873061, 'timestamp': '2024-09-12 15:04:01'}\n",
      "Sent: {'id': 620, 'value': 0.9496736282483953, 'timestamp': '2024-09-12 15:04:02'}\n",
      "Sent: {'id': 523, 'value': 0.12517195494636246, 'timestamp': '2024-09-12 15:04:03'}\n",
      "Sent: {'id': 516, 'value': 0.7343358890909744, 'timestamp': '2024-09-12 15:04:04'}\n",
      "Sent: {'id': 229, 'value': 0.39705198890624815, 'timestamp': '2024-09-12 15:04:05'}\n",
      "Sent: {'id': 669, 'value': 0.7065091271283028, 'timestamp': '2024-09-12 15:04:06'}\n",
      "Sent: {'id': 82, 'value': 0.8253577789810899, 'timestamp': '2024-09-12 15:04:07'}\n",
      "Sent: {'id': 691, 'value': 0.6426503255036523, 'timestamp': '2024-09-12 15:04:08'}\n",
      "Sent: {'id': 789, 'value': 0.5089860226833218, 'timestamp': '2024-09-12 15:04:09'}\n",
      "Sent: {'id': 52, 'value': 0.6681940479882403, 'timestamp': '2024-09-12 15:04:10'}\n",
      "Sent: {'id': 188, 'value': 0.06935352416887053, 'timestamp': '2024-09-12 15:04:11'}\n",
      "Sent: {'id': 924, 'value': 0.1073632461779449, 'timestamp': '2024-09-12 15:04:12'}\n",
      "Sent: {'id': 522, 'value': 0.6800960872157807, 'timestamp': '2024-09-12 15:04:13'}\n",
      "Sent: {'id': 893, 'value': 0.7177539764233685, 'timestamp': '2024-09-12 15:04:14'}\n",
      "Sent: {'id': 586, 'value': 0.31895837393127147, 'timestamp': '2024-09-12 15:04:15'}\n",
      "Sent: {'id': 890, 'value': 0.4368644427246188, 'timestamp': '2024-09-12 15:04:16'}\n",
      "Sent: {'id': 462, 'value': 0.8497848404411485, 'timestamp': '2024-09-12 15:04:17'}\n",
      "Sent: {'id': 514, 'value': 0.4449395257307823, 'timestamp': '2024-09-12 15:04:18'}\n",
      "Sent: {'id': 966, 'value': 0.06608448895146579, 'timestamp': '2024-09-12 15:04:19'}\n",
      "Sent: {'id': 128, 'value': 0.5147609655119753, 'timestamp': '2024-09-12 15:04:20'}\n",
      "Sent: {'id': 417, 'value': 0.0794405899431504, 'timestamp': '2024-09-12 15:04:21'}\n",
      "Sent: {'id': 649, 'value': 0.7553859925716532, 'timestamp': '2024-09-12 15:04:22'}\n",
      "Sent: {'id': 287, 'value': 0.5306168852284532, 'timestamp': '2024-09-12 15:04:23'}\n",
      "Sent: {'id': 557, 'value': 0.3901032108852257, 'timestamp': '2024-09-12 15:04:24'}\n",
      "Sent: {'id': 604, 'value': 0.263463469733191, 'timestamp': '2024-09-12 15:04:25'}\n",
      "Sent: {'id': 612, 'value': 0.595459862822838, 'timestamp': '2024-09-12 15:04:26'}\n",
      "Sent: {'id': 549, 'value': 0.42640049481442355, 'timestamp': '2024-09-12 15:04:27'}\n",
      "Sent: {'id': 526, 'value': 0.9457630778644762, 'timestamp': '2024-09-12 15:04:28'}\n",
      "Sent: {'id': 264, 'value': 0.47269278371663337, 'timestamp': '2024-09-12 15:04:29'}\n",
      "Sent: {'id': 676, 'value': 0.5981980370126445, 'timestamp': '2024-09-12 15:04:30'}\n",
      "Sent: {'id': 976, 'value': 0.7993316915667413, 'timestamp': '2024-09-12 15:04:31'}\n",
      "Sent: {'id': 299, 'value': 0.7555986333754563, 'timestamp': '2024-09-12 15:04:32'}\n",
      "Sent: {'id': 263, 'value': 0.06558576070247413, 'timestamp': '2024-09-12 15:04:33'}\n",
      "Sent: {'id': 150, 'value': 0.6625195319256572, 'timestamp': '2024-09-12 15:04:34'}\n",
      "Sent: {'id': 879, 'value': 0.9067255872248275, 'timestamp': '2024-09-12 15:04:35'}\n",
      "Sent: {'id': 610, 'value': 0.6209927601302329, 'timestamp': '2024-09-12 15:04:36'}\n",
      "Sent: {'id': 124, 'value': 0.6610054010418253, 'timestamp': '2024-09-12 15:04:37'}\n",
      "Sent: {'id': 576, 'value': 0.8963908943110075, 'timestamp': '2024-09-12 15:04:38'}\n",
      "Sent: {'id': 301, 'value': 0.2745119409959079, 'timestamp': '2024-09-12 15:04:39'}\n",
      "Sent: {'id': 349, 'value': 0.755832785392327, 'timestamp': '2024-09-12 15:04:40'}\n",
      "Sent: {'id': 756, 'value': 0.2112657077707355, 'timestamp': '2024-09-12 15:04:41'}\n",
      "Sent: {'id': 434, 'value': 0.753806269988722, 'timestamp': '2024-09-12 15:04:42'}\n",
      "Sent: {'id': 213, 'value': 0.7132195383560805, 'timestamp': '2024-09-12 15:04:43'}\n",
      "Sent: {'id': 607, 'value': 0.6499468427764291, 'timestamp': '2024-09-12 15:04:44'}\n",
      "Sent: {'id': 963, 'value': 0.010567565980349802, 'timestamp': '2024-09-12 15:04:45'}\n",
      "Sent: {'id': 530, 'value': 0.46605649367081114, 'timestamp': '2024-09-12 15:04:46'}\n",
      "Sent: {'id': 213, 'value': 0.17670458948672585, 'timestamp': '2024-09-12 15:04:47'}\n",
      "Sent: {'id': 953, 'value': 0.8312581996609663, 'timestamp': '2024-09-12 15:04:48'}\n",
      "Sent: {'id': 408, 'value': 0.3831934243308066, 'timestamp': '2024-09-12 15:04:49'}\n",
      "Sent: {'id': 10, 'value': 0.9994858679939743, 'timestamp': '2024-09-12 15:04:50'}\n",
      "Sent: {'id': 102, 'value': 0.4705457665664534, 'timestamp': '2024-09-12 15:04:51'}\n",
      "Sent: {'id': 857, 'value': 0.42252753480228467, 'timestamp': '2024-09-12 15:04:52'}\n",
      "Sent: {'id': 240, 'value': 0.5774707711873636, 'timestamp': '2024-09-12 15:04:53'}\n",
      "Sent: {'id': 45, 'value': 0.9609122705483465, 'timestamp': '2024-09-12 15:04:54'}\n",
      "Sent: {'id': 679, 'value': 0.3253355780484609, 'timestamp': '2024-09-12 15:04:55'}\n",
      "Sent: {'id': 344, 'value': 0.517112355825203, 'timestamp': '2024-09-12 15:04:56'}\n",
      "Sent: {'id': 572, 'value': 0.8483812945984414, 'timestamp': '2024-09-12 15:04:57'}\n",
      "Sent: {'id': 334, 'value': 0.1420428830438477, 'timestamp': '2024-09-12 15:04:58'}\n",
      "Sent: {'id': 135, 'value': 0.44152695018421795, 'timestamp': '2024-09-12 15:04:59'}\n",
      "Sent: {'id': 969, 'value': 0.7900205376413924, 'timestamp': '2024-09-12 15:05:00'}\n",
      "Sent: {'id': 325, 'value': 0.23566353527127337, 'timestamp': '2024-09-12 15:05:01'}\n",
      "Sent: {'id': 255, 'value': 0.9295111927476621, 'timestamp': '2024-09-12 15:05:02'}\n",
      "Sent: {'id': 488, 'value': 0.7086632620712634, 'timestamp': '2024-09-12 15:05:04'}\n",
      "Sent: {'id': 332, 'value': 0.8877717128979805, 'timestamp': '2024-09-12 15:05:05'}\n",
      "Sent: {'id': 412, 'value': 0.821078550526824, 'timestamp': '2024-09-12 15:05:06'}\n",
      "Sent: {'id': 784, 'value': 0.43272445267029336, 'timestamp': '2024-09-12 15:05:07'}\n",
      "Sent: {'id': 51, 'value': 0.7943672827337912, 'timestamp': '2024-09-12 15:05:08'}\n",
      "Sent: {'id': 717, 'value': 0.45491318925323243, 'timestamp': '2024-09-12 15:05:09'}\n",
      "Sent: {'id': 679, 'value': 0.6186894505772211, 'timestamp': '2024-09-12 15:05:10'}\n",
      "Sent: {'id': 473, 'value': 0.12364911937821399, 'timestamp': '2024-09-12 15:05:11'}\n",
      "Sent: {'id': 788, 'value': 0.051811087934039324, 'timestamp': '2024-09-12 15:05:12'}\n",
      "Sent: {'id': 290, 'value': 0.8011069804771408, 'timestamp': '2024-09-12 15:05:13'}\n",
      "Sent: {'id': 434, 'value': 0.9171860837009836, 'timestamp': '2024-09-12 15:05:14'}\n",
      "Sent: {'id': 369, 'value': 0.09392881326253855, 'timestamp': '2024-09-12 15:05:15'}\n",
      "Sent: {'id': 783, 'value': 0.40843667103695336, 'timestamp': '2024-09-12 15:05:16'}\n",
      "Sent: {'id': 871, 'value': 0.9341052274685663, 'timestamp': '2024-09-12 15:05:17'}\n",
      "Sent: {'id': 519, 'value': 0.9586537361847641, 'timestamp': '2024-09-12 15:05:18'}\n",
      "Sent: {'id': 817, 'value': 0.6859842073656365, 'timestamp': '2024-09-12 15:05:19'}\n",
      "Sent: {'id': 368, 'value': 0.6236236878673169, 'timestamp': '2024-09-12 15:05:20'}\n"
     ]
    },
    {
     "name": "stdout",
     "output_type": "stream",
     "text": [
      "Sent: {'id': 566, 'value': 0.32301011097295274, 'timestamp': '2024-09-12 15:05:21'}\n",
      "Sent: {'id': 62, 'value': 0.9381117878862201, 'timestamp': '2024-09-12 15:05:22'}\n",
      "Sent: {'id': 69, 'value': 0.5419625336986792, 'timestamp': '2024-09-12 15:05:23'}\n",
      "Sent: {'id': 457, 'value': 0.5797894074507377, 'timestamp': '2024-09-12 15:05:24'}\n",
      "Sent: {'id': 517, 'value': 0.7967611645969369, 'timestamp': '2024-09-12 15:05:25'}\n",
      "Sent: {'id': 554, 'value': 0.4607581708593945, 'timestamp': '2024-09-12 15:05:26'}\n",
      "Sent: {'id': 327, 'value': 0.09997057506240825, 'timestamp': '2024-09-12 15:05:27'}\n",
      "Sent: {'id': 516, 'value': 0.36267256660500613, 'timestamp': '2024-09-12 15:05:28'}\n",
      "Sent: {'id': 986, 'value': 0.9340036498125539, 'timestamp': '2024-09-12 15:05:29'}\n",
      "Sent: {'id': 75, 'value': 0.552650443297328, 'timestamp': '2024-09-12 15:05:30'}\n",
      "Sent: {'id': 460, 'value': 0.10712210826792767, 'timestamp': '2024-09-12 15:05:31'}\n",
      "Sent: {'id': 199, 'value': 0.37310754108004807, 'timestamp': '2024-09-12 15:05:32'}\n",
      "Sent: {'id': 211, 'value': 0.39534583570999327, 'timestamp': '2024-09-12 15:05:33'}\n",
      "Sent: {'id': 570, 'value': 0.707654791175553, 'timestamp': '2024-09-12 15:05:34'}\n",
      "Sent: {'id': 791, 'value': 0.3286160524016284, 'timestamp': '2024-09-12 15:05:35'}\n",
      "Sent: {'id': 170, 'value': 0.03125973959804107, 'timestamp': '2024-09-12 15:05:36'}\n",
      "Sent: {'id': 317, 'value': 0.24977809893408187, 'timestamp': '2024-09-12 15:05:37'}\n",
      "Sent: {'id': 312, 'value': 0.6301984818661963, 'timestamp': '2024-09-12 15:05:38'}\n",
      "Sent: {'id': 632, 'value': 0.713306967110741, 'timestamp': '2024-09-12 15:05:39'}\n",
      "Sent: {'id': 27, 'value': 0.1023663449608011, 'timestamp': '2024-09-12 15:05:40'}\n",
      "Sent: {'id': 484, 'value': 0.1866751894786508, 'timestamp': '2024-09-12 15:05:41'}\n",
      "Sent: {'id': 271, 'value': 0.8590774542599271, 'timestamp': '2024-09-12 15:05:42'}\n",
      "Sent: {'id': 113, 'value': 0.2674378919473208, 'timestamp': '2024-09-12 15:05:43'}\n",
      "Sent: {'id': 909, 'value': 0.2775015460919559, 'timestamp': '2024-09-12 15:05:44'}\n",
      "Sent: {'id': 653, 'value': 0.7144975112969634, 'timestamp': '2024-09-12 15:05:45'}\n",
      "Sent: {'id': 771, 'value': 0.8169019154181109, 'timestamp': '2024-09-12 15:05:46'}\n",
      "Sent: {'id': 792, 'value': 0.016947384466880155, 'timestamp': '2024-09-12 15:05:47'}\n",
      "Sent: {'id': 326, 'value': 0.87816872675607, 'timestamp': '2024-09-12 15:05:48'}\n",
      "Sent: {'id': 38, 'value': 0.9814570660880038, 'timestamp': '2024-09-12 15:05:49'}\n",
      "Sent: {'id': 334, 'value': 0.6362167092646539, 'timestamp': '2024-09-12 15:05:50'}\n",
      "Sent: {'id': 77, 'value': 0.5267293457571617, 'timestamp': '2024-09-12 15:05:51'}\n",
      "Sent: {'id': 629, 'value': 0.5272417445897593, 'timestamp': '2024-09-12 15:05:52'}\n",
      "Sent: {'id': 139, 'value': 0.8968542866059279, 'timestamp': '2024-09-12 15:05:53'}\n",
      "Sent: {'id': 174, 'value': 0.8077895951531281, 'timestamp': '2024-09-12 15:05:54'}\n",
      "Sent: {'id': 16, 'value': 0.6071417768188804, 'timestamp': '2024-09-12 15:05:55'}\n",
      "Sent: {'id': 880, 'value': 0.9472334290704872, 'timestamp': '2024-09-12 15:05:56'}\n",
      "Sent: {'id': 838, 'value': 0.9489513057912675, 'timestamp': '2024-09-12 15:05:57'}\n",
      "Sent: {'id': 789, 'value': 0.7278775698191271, 'timestamp': '2024-09-12 15:05:58'}\n",
      "Sent: {'id': 152, 'value': 0.47354560984714344, 'timestamp': '2024-09-12 15:05:59'}\n",
      "Sent: {'id': 365, 'value': 0.5195548702691801, 'timestamp': '2024-09-12 15:06:00'}\n",
      "Sent: {'id': 572, 'value': 0.07028419381865403, 'timestamp': '2024-09-12 15:06:01'}\n",
      "Sent: {'id': 962, 'value': 0.9569346672321151, 'timestamp': '2024-09-12 15:06:02'}\n",
      "Sent: {'id': 516, 'value': 0.8435377821509799, 'timestamp': '2024-09-12 15:06:03'}\n",
      "Sent: {'id': 523, 'value': 0.34184805952514596, 'timestamp': '2024-09-12 15:06:04'}\n",
      "Sent: {'id': 80, 'value': 0.7922192709679128, 'timestamp': '2024-09-12 15:06:05'}\n",
      "Sent: {'id': 136, 'value': 0.3986995085039161, 'timestamp': '2024-09-12 15:06:06'}\n",
      "Sent: {'id': 853, 'value': 0.5902443703026394, 'timestamp': '2024-09-12 15:06:07'}\n",
      "Sent: {'id': 542, 'value': 0.27141139082638, 'timestamp': '2024-09-12 15:06:08'}\n",
      "Sent: {'id': 232, 'value': 0.07827894535277014, 'timestamp': '2024-09-12 15:06:09'}\n",
      "Sent: {'id': 202, 'value': 0.21664289722718333, 'timestamp': '2024-09-12 15:06:10'}\n",
      "Sent: {'id': 456, 'value': 0.17694807610823227, 'timestamp': '2024-09-12 15:06:11'}\n",
      "Sent: {'id': 592, 'value': 0.8755280300463375, 'timestamp': '2024-09-12 15:06:12'}\n",
      "Sent: {'id': 497, 'value': 0.6028448070723254, 'timestamp': '2024-09-12 15:06:13'}\n",
      "Sent: {'id': 249, 'value': 0.30610667561339566, 'timestamp': '2024-09-12 15:06:14'}\n",
      "Sent: {'id': 887, 'value': 0.24181773727405653, 'timestamp': '2024-09-12 15:06:15'}\n",
      "Sent: {'id': 232, 'value': 0.2979662082956157, 'timestamp': '2024-09-12 15:06:16'}\n",
      "Sent: {'id': 453, 'value': 0.30789882304945315, 'timestamp': '2024-09-12 15:06:17'}\n",
      "Sent: {'id': 38, 'value': 0.2155376888879983, 'timestamp': '2024-09-12 15:06:18'}\n",
      "Sent: {'id': 839, 'value': 0.7481670164979575, 'timestamp': '2024-09-12 15:06:19'}\n",
      "Sent: {'id': 897, 'value': 0.19266294538188622, 'timestamp': '2024-09-12 15:06:20'}\n",
      "Sent: {'id': 37, 'value': 0.26426637722092716, 'timestamp': '2024-09-12 15:06:21'}\n",
      "Sent: {'id': 704, 'value': 0.9441247957424705, 'timestamp': '2024-09-12 15:06:22'}\n",
      "Sent: {'id': 933, 'value': 0.3879340191459498, 'timestamp': '2024-09-12 15:06:23'}\n",
      "Sent: {'id': 999, 'value': 0.8477286194255815, 'timestamp': '2024-09-12 15:06:24'}\n",
      "Sent: {'id': 268, 'value': 0.5840723385366597, 'timestamp': '2024-09-12 15:06:25'}\n",
      "Sent: {'id': 663, 'value': 0.13524595798405292, 'timestamp': '2024-09-12 15:06:26'}\n",
      "Sent: {'id': 325, 'value': 0.6671374200012342, 'timestamp': '2024-09-12 15:06:27'}\n",
      "Sent: {'id': 624, 'value': 0.7922167722074049, 'timestamp': '2024-09-12 15:06:28'}\n",
      "Sent: {'id': 433, 'value': 0.44427450055014706, 'timestamp': '2024-09-12 15:06:29'}\n",
      "Sent: {'id': 29, 'value': 0.11115041249184532, 'timestamp': '2024-09-12 15:06:30'}\n",
      "Sent: {'id': 369, 'value': 0.014523135357528694, 'timestamp': '2024-09-12 15:06:31'}\n",
      "Sent: {'id': 177, 'value': 0.5047647632555957, 'timestamp': '2024-09-12 15:06:32'}\n",
      "Sent: {'id': 534, 'value': 0.5155773028016138, 'timestamp': '2024-09-12 15:06:33'}\n",
      "Sent: {'id': 890, 'value': 0.6778085678439357, 'timestamp': '2024-09-12 15:06:34'}\n",
      "Sent: {'id': 536, 'value': 0.8906576878299162, 'timestamp': '2024-09-12 15:06:35'}\n",
      "Sent: {'id': 420, 'value': 0.9199462133235826, 'timestamp': '2024-09-12 15:06:36'}\n",
      "Sent: {'id': 495, 'value': 0.4509660321354365, 'timestamp': '2024-09-12 15:06:37'}\n",
      "Sent: {'id': 102, 'value': 0.633113604547321, 'timestamp': '2024-09-12 15:06:38'}\n",
      "Sent: {'id': 174, 'value': 0.45515058454715596, 'timestamp': '2024-09-12 15:06:39'}\n",
      "Sent: {'id': 278, 'value': 0.18549613586533065, 'timestamp': '2024-09-12 15:06:40'}\n",
      "Sent: {'id': 899, 'value': 0.5066575913757997, 'timestamp': '2024-09-12 15:06:41'}\n",
      "Sent: {'id': 579, 'value': 0.021848029933564828, 'timestamp': '2024-09-12 15:06:42'}\n",
      "Sent: {'id': 70, 'value': 0.715358323920855, 'timestamp': '2024-09-12 15:06:43'}\n",
      "Sent: {'id': 86, 'value': 0.1559596349128758, 'timestamp': '2024-09-12 15:06:44'}\n",
      "Sent: {'id': 699, 'value': 0.7786218409926451, 'timestamp': '2024-09-12 15:06:45'}\n",
      "Sent: {'id': 573, 'value': 0.042502643407581475, 'timestamp': '2024-09-12 15:06:46'}\n",
      "Sent: {'id': 715, 'value': 0.08117914894890843, 'timestamp': '2024-09-12 15:06:47'}\n",
      "Sent: {'id': 571, 'value': 0.6726688723231098, 'timestamp': '2024-09-12 15:06:48'}\n",
      "Sent: {'id': 653, 'value': 0.8954070282458539, 'timestamp': '2024-09-12 15:06:49'}\n",
      "Sent: {'id': 492, 'value': 0.15183077227462127, 'timestamp': '2024-09-12 15:06:50'}\n",
      "Sent: {'id': 26, 'value': 0.9060145524893979, 'timestamp': '2024-09-12 15:06:51'}\n",
      "Sent: {'id': 671, 'value': 0.5158317868732808, 'timestamp': '2024-09-12 15:06:52'}\n",
      "Sent: {'id': 23, 'value': 0.1792636491262608, 'timestamp': '2024-09-12 15:06:53'}\n",
      "Sent: {'id': 433, 'value': 0.1700628566650465, 'timestamp': '2024-09-12 15:06:54'}\n",
      "Sent: {'id': 587, 'value': 0.5902738036763719, 'timestamp': '2024-09-12 15:06:55'}\n",
      "Sent: {'id': 2, 'value': 0.05303275533542884, 'timestamp': '2024-09-12 15:06:56'}\n"
     ]
    },
    {
     "ename": "KeyboardInterrupt",
     "evalue": "",
     "output_type": "error",
     "traceback": [
      "\u001b[0;31m---------------------------------------------------------------------------\u001b[0m",
      "\u001b[0;31mKeyboardInterrupt\u001b[0m                         Traceback (most recent call last)",
      "Cell \u001b[0;32mIn[2], line 19\u001b[0m\n\u001b[1;32m     17\u001b[0m producer\u001b[38;5;241m.\u001b[39msend(\u001b[38;5;124m'\u001b[39m\u001b[38;5;124mreal-time-data\u001b[39m\u001b[38;5;124m'\u001b[39m, value\u001b[38;5;241m=\u001b[39mdata)\n\u001b[1;32m     18\u001b[0m \u001b[38;5;28mprint\u001b[39m(\u001b[38;5;124mf\u001b[39m\u001b[38;5;124m\"\u001b[39m\u001b[38;5;124mSent: \u001b[39m\u001b[38;5;132;01m{\u001b[39;00mdata\u001b[38;5;132;01m}\u001b[39;00m\u001b[38;5;124m\"\u001b[39m)\n\u001b[0;32m---> 19\u001b[0m time\u001b[38;5;241m.\u001b[39msleep(\u001b[38;5;241m1\u001b[39m)\n",
      "\u001b[0;31mKeyboardInterrupt\u001b[0m: "
     ]
    }
   ],
   "source": [
    "from kafka import KafkaProducer\n",
    "import time\n",
    "import json\n",
    "import random\n",
    "\n",
    "producer = KafkaProducer(bootstrap_servers='localhost:9092', value_serializer=lambda x: json.dumps(x).encode('utf-8'))\n",
    "\n",
    "def generate_data():\n",
    "    return {\n",
    "        'id': random.randint(1, 1000),\n",
    "        'value': random.random(),\n",
    "        'timestamp': time.strftime('%Y-%m-%d %H:%M:%S')\n",
    "    }\n",
    "\n",
    "while True:\n",
    "    data = generate_data()\n",
    "    producer.send('real-time-data', value=data)\n",
    "    print(f\"Sent: {data}\")\n",
    "    time.sleep(1)"
   ]
  },
  {
   "cell_type": "code",
   "execution_count": 5,
   "id": "9a46c02a",
   "metadata": {},
   "outputs": [
    {
     "name": "stdout",
     "output_type": "stream",
     "text": [
      "Collecting pyspark\n",
      "  Downloading pyspark-3.5.2.tar.gz (317.3 MB)\n",
      "\u001b[2K     \u001b[90m━━━━━━━━━━━━━━━━━━━━━━━━━━━━━━━━━━━━━━━\u001b[0m \u001b[32m317.3/317.3 MB\u001b[0m \u001b[31m8.5 MB/s\u001b[0m eta \u001b[36m0:00:00\u001b[0m00:01\u001b[0m00:01\u001b[0m\n",
      "\u001b[?25h  Preparing metadata (setup.py) ... \u001b[?25ldone\n",
      "\u001b[?25hCollecting py4j==0.10.9.7 (from pyspark)\n",
      "  Obtaining dependency information for py4j==0.10.9.7 from https://files.pythonhosted.org/packages/10/30/a58b32568f1623aaad7db22aa9eafc4c6c194b429ff35bdc55ca2726da47/py4j-0.10.9.7-py2.py3-none-any.whl.metadata\n",
      "  Downloading py4j-0.10.9.7-py2.py3-none-any.whl.metadata (1.5 kB)\n",
      "Downloading py4j-0.10.9.7-py2.py3-none-any.whl (200 kB)\n",
      "\u001b[2K   \u001b[90m━━━━━━━━━━━━━━━━━━━━━━━━━━━━━━━━━━━━━━━━\u001b[0m \u001b[32m200.5/200.5 kB\u001b[0m \u001b[31m18.2 MB/s\u001b[0m eta \u001b[36m0:00:00\u001b[0m\n",
      "\u001b[?25hBuilding wheels for collected packages: pyspark\n",
      "  Building wheel for pyspark (setup.py) ... \u001b[?25ldone\n",
      "\u001b[?25h  Created wheel for pyspark: filename=pyspark-3.5.2-py2.py3-none-any.whl size=317812371 sha256=49b6eab828a3b932471cc8b44c3f50b6ad6fe736a8da3f785daf2c3a168e52bc\n",
      "  Stored in directory: /Users/praveen/Library/Caches/pip/wheels/9d/29/ee/3a756632ca3f0a6870933bac1c9db6e4af2c068f019aba0ee1\n",
      "Successfully built pyspark\n",
      "Installing collected packages: py4j, pyspark\n",
      "Successfully installed py4j-0.10.9.7 pyspark-3.5.2\n"
     ]
    }
   ],
   "source": [
    "!pip install pyspark"
   ]
  },
  {
   "cell_type": "markdown",
   "id": "3cc42c0f",
   "metadata": {},
   "source": [
    "# Spark Streaming Setup (Real-Time Data Processing)"
   ]
  },
  {
   "cell_type": "code",
   "execution_count": 8,
   "id": "c860c365",
   "metadata": {},
   "outputs": [],
   "source": [
    "from pyspark.sql import SparkSession\n",
    "from pyspark.sql.functions import *\n",
    "from pyspark.streaming import StreamingContext\n",
    "spark = SparkSession.builder.appName(\"RealTimeProcessing\").getOrCreate()\n",
    "ssc = StreamingContext(spark.sparkContext, batchDuration=1)"
   ]
  },
  {
   "cell_type": "markdown",
   "id": "084f67b0",
   "metadata": {},
   "source": [
    "# Creating a PySpark DataFrame with Random Data"
   ]
  },
  {
   "cell_type": "code",
   "execution_count": 12,
   "id": "d35790de",
   "metadata": {},
   "outputs": [
    {
     "name": "stdout",
     "output_type": "stream",
     "text": [
      "+---+----------+-------------------+\n",
      "| id|random_int|       random_float|\n",
      "+---+----------+-------------------+\n",
      "|  0|         9| 0.7706655600290109|\n",
      "|  1|        84|0.45021858186027097|\n",
      "|  2|        59| 0.4197257803532731|\n",
      "|  3|        32|0.21539843953247517|\n",
      "|  4|        44| 0.6995019176076869|\n",
      "|  5|        94|0.03132540027195596|\n",
      "|  6|        95| 0.5785004961895079|\n",
      "|  7|        39| 0.8840639748746542|\n",
      "|  8|        61| 0.3507788150376926|\n",
      "|  9|        99|  0.408650327207677|\n",
      "| 10|        17|  0.300621399629441|\n",
      "| 11|        18| 0.4619592622464679|\n",
      "| 12|        37|0.06719067202869022|\n",
      "| 13|        68| 0.2979188986161554|\n",
      "| 14|        88| 0.7690153641302008|\n",
      "| 15|        73|0.10726132470281147|\n",
      "| 16|        19| 0.2040599737902452|\n",
      "| 17|        86| 0.5557499543638216|\n",
      "| 18|        30|0.13521884604733514|\n",
      "| 19|        55| 0.4963470287308934|\n",
      "+---+----------+-------------------+\n",
      "only showing top 20 rows\n",
      "\n",
      "+---+----------+--------------------+\n",
      "| id|random_int|        random_float|\n",
      "+---+----------+--------------------+\n",
      "|  1|        84| 0.45021858186027097|\n",
      "|  2|        59|  0.4197257803532731|\n",
      "|  5|        94| 0.03132540027195596|\n",
      "|  6|        95|  0.5785004961895079|\n",
      "|  8|        61|  0.3507788150376926|\n",
      "|  9|        99|   0.408650327207677|\n",
      "| 13|        68|  0.2979188986161554|\n",
      "| 14|        88|  0.7690153641302008|\n",
      "| 15|        73| 0.10726132470281147|\n",
      "| 17|        86|  0.5557499543638216|\n",
      "| 19|        55|  0.4963470287308934|\n",
      "| 25|        69|  0.6844356513821658|\n",
      "| 26|        59|0.024097568659428914|\n",
      "| 27|        54| 0.16908339378786275|\n",
      "| 28|        93|   0.643903552656131|\n",
      "| 29|        85| 0.03401242064332077|\n",
      "| 33|        70| 0.44857842243154744|\n",
      "| 34|        82|  0.3067193593352905|\n",
      "| 37|        94| 0.07553335759165558|\n",
      "| 41|        71|  0.5314851247013107|\n",
      "+---+----------+--------------------+\n",
      "only showing top 20 rows\n",
      "\n"
     ]
    }
   ],
   "source": [
    "from pyspark.sql import SparkSession\n",
    "import random\n",
    "spark = SparkSession.builder.appName('SyntheticData').getOrCreate()\n",
    "data = [(i, random.randint(1, 100), random.random()) for i in range(100)]\n",
    "df = spark.createDataFrame(data, ['id', 'random_int', 'random_float'])\n",
    "df.show()\n",
    "df_filtered = df.filter(df['random_int'] > 50)\n",
    "df_filtered.show()\n"
   ]
  },
  {
   "cell_type": "markdown",
   "id": "c26962c0",
   "metadata": {},
   "source": [
    "# Data Processing "
   ]
  },
  {
   "cell_type": "code",
   "execution_count": 13,
   "id": "17242054",
   "metadata": {},
   "outputs": [
    {
     "name": "stdout",
     "output_type": "stream",
     "text": [
      "+----------+-------------------+\n",
      "|random_int|      average_float|\n",
      "+----------+-------------------+\n",
      "|        94|0.05342937893180577|\n",
      "|        32|0.21539843953247517|\n",
      "|        84|0.45021858186027097|\n",
      "|        39| 0.4441042285369488|\n",
      "|        95| 0.7713079973916297|\n",
      "|         9| 0.7706655600290109|\n",
      "|        17| 0.6159394536476245|\n",
      "|        44| 0.6995019176076869|\n",
      "|        61| 0.3507788150376926|\n",
      "|        18| 0.4731680106261956|\n",
      "|        59|0.22191167450635102|\n",
      "|        99|  0.408650327207677|\n",
      "|        19|0.17074896068836395|\n",
      "|        25| 0.5622608647139808|\n",
      "|        68| 0.5925210792730564|\n",
      "|        88| 0.5040306760119793|\n",
      "|        37|0.06719067202869022|\n",
      "|        55| 0.4963470287308934|\n",
      "|        11|0.06375822873076775|\n",
      "|        21| 0.7295444578980481|\n",
      "+----------+-------------------+\n",
      "only showing top 20 rows\n",
      "\n"
     ]
    }
   ],
   "source": [
    "df_grouped = df.groupBy('random_int').agg({'random_float': 'avg'}).withColumnRenamed('avg(random_float)', 'average_float')\n",
    "df_grouped.show()"
   ]
  },
  {
   "cell_type": "markdown",
   "id": "531cfd45",
   "metadata": {},
   "source": [
    "# Data storage"
   ]
  },
  {
   "cell_type": "code",
   "execution_count": 16,
   "id": "3d7a867b",
   "metadata": {},
   "outputs": [],
   "source": [
    "df_grouped.write \\\n",
    "    .mode('overwrite') \\\n",
    "    .csv('path/to/save/processed_data.csv', header=True)"
   ]
  },
  {
   "cell_type": "markdown",
   "id": "b8163551",
   "metadata": {},
   "source": [
    "# Advanced Data Processing "
   ]
  },
  {
   "cell_type": "code",
   "execution_count": 18,
   "id": "d798d521",
   "metadata": {},
   "outputs": [
    {
     "name": "stderr",
     "output_type": "stream",
     "text": [
      "24/09/12 15:26:37 WARN WindowExec: No Partition Defined for Window operation! Moving all data to a single partition, this can cause serious performance degradation.\n",
      "24/09/12 15:26:37 WARN WindowExec: No Partition Defined for Window operation! Moving all data to a single partition, this can cause serious performance degradation.\n",
      "24/09/12 15:26:37 WARN WindowExec: No Partition Defined for Window operation! Moving all data to a single partition, this can cause serious performance degradation.\n",
      "24/09/12 15:26:37 WARN WindowExec: No Partition Defined for Window operation! Moving all data to a single partition, this can cause serious performance degradation.\n",
      "24/09/12 15:26:37 WARN WindowExec: No Partition Defined for Window operation! Moving all data to a single partition, this can cause serious performance degradation.\n",
      "24/09/12 15:26:37 WARN WindowExec: No Partition Defined for Window operation! Moving all data to a single partition, this can cause serious performance degradation.\n",
      "24/09/12 15:26:37 WARN WindowExec: No Partition Defined for Window operation! Moving all data to a single partition, this can cause serious performance degradation.\n"
     ]
    },
    {
     "name": "stdout",
     "output_type": "stream",
     "text": [
      "+----------+-------------------+-------------------+\n",
      "|random_int|      average_float|     cumulative_sum|\n",
      "+----------+-------------------+-------------------+\n",
      "|         2|0.41602991500579894|0.41602991500579894|\n",
      "|         5| 0.5267996384826519| 0.9428295534884508|\n",
      "|         6|0.19527437144684584| 1.1381039249352967|\n",
      "|         9| 0.7706655600290109| 1.9087694849643075|\n",
      "|        11|0.06375822873076775| 1.9725277136950754|\n",
      "|        12| 0.5108642729188344|   2.48339198661391|\n",
      "|        17| 0.6159394536476245|  3.099331440261534|\n",
      "|        18| 0.4731680106261956|   3.57249945088773|\n",
      "|        19|0.17074896068836395|  3.743248411576094|\n",
      "|        20| 0.3467153033542846|  4.089963714930379|\n",
      "|        21| 0.7295444578980481|  4.819508172828427|\n",
      "|        22| 0.5929663386109735|  5.412474511439401|\n",
      "|        25| 0.5622608647139808|  5.974735376153381|\n",
      "|        27| 0.4266305413893467|  6.401365917542728|\n",
      "|        29|0.48851905726965883|  6.889884974812387|\n",
      "|        30|0.27159589815566326|   7.16148087296805|\n",
      "|        32|0.21539843953247517|  7.376879312500525|\n",
      "|        33| 0.7821347610657938|  8.159014073566318|\n",
      "|        34| 0.5061787463995975|  8.665192819965917|\n",
      "|        36| 0.4429398975839989|  9.108132717549916|\n",
      "+----------+-------------------+-------------------+\n",
      "only showing top 20 rows\n",
      "\n"
     ]
    }
   ],
   "source": [
    "from pyspark.sql.window import Window\n",
    "from pyspark.sql.functions import sum\n",
    "window_spec = Window.orderBy('random_int').rowsBetween(Window.unboundedPreceding, Window.currentRow)\n",
    "df_windowed = df_grouped.withColumn('cumulative_sum', sum('average_float').over(window_spec))\n",
    "df_windowed.show()"
   ]
  },
  {
   "cell_type": "markdown",
   "id": "595b8f79",
   "metadata": {},
   "source": [
    "# Data Visualization"
   ]
  },
  {
   "cell_type": "code",
   "execution_count": 19,
   "id": "eb401341",
   "metadata": {},
   "outputs": [
    {
     "data": {
      "image/png": "[encoded data removed]",
      "text/plain": [
       "<Figure size 1000x600 with 1 Axes>"
      ]
     },
     "metadata": {},
     "output_type": "display_data"
    },
    {
     "data": {
      "image/png": "[encoded data removed]",
      "text/plain": [
       "<Figure size 1000x600 with 1 Axes>"
      ]
     },
     "metadata": {},
     "output_type": "display_data"
    }
   ],
   "source": [
    "import matplotlib.pyplot as plt\n",
    "df_pandas = df_grouped.toPandas()\n",
    "plt.figure(figsize=(10, 6))\n",
    "plt.bar(df_pandas['random_int'], df_pandas['average_float'], color='blue')\n",
    "plt.xlabel('Random Integer')\n",
    "plt.ylabel('Average Float Value')\n",
    "plt.title('Average Float Value by Random Integer')\n",
    "plt.show()\n",
    "import matplotlib.pyplot as plt\n",
    "df_pandas = df_grouped.toPandas()\n",
    "plt.figure(figsize=(10, 6))\n",
    "plt.bar(df_pandas['random_int'], df_pandas['average_float'], color='blue')\n",
    "plt.xlabel('Random Integer')\n",
    "plt.ylabel('Average Float Value')\n",
    "plt.title('Average Float Value by Random Integer')\n",
    "plt.show()"
   ]
  },
  {
   "cell_type": "code",
   "execution_count": null,
   "id": "c37f477e",
   "metadata": {},
   "outputs": [],
   "source": []
  }
 ],
 "metadata": {
  "kernelspec": {
   "display_name": "Python 3 (ipykernel)",
   "language": "python",
   "name": "python3"
  },
  "language_info": {
   "codemirror_mode": {
    "name": "ipython",
    "version": 3
   },
   "file_extension": ".py",
   "mimetype": "text/x-python",
   "name": "python",
   "nbconvert_exporter": "python",
   "pygments_lexer": "ipython3",
   "version": "3.11.4"
  }
 },
 "nbformat": 4,
 "nbformat_minor": 5
}
